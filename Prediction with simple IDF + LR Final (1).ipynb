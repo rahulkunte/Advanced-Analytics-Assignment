{
 "cells": [
  {
   "cell_type": "code",
   "execution_count": 1,
   "metadata": {},
   "outputs": [],
   "source": [
    "import threading\n",
    "\n",
    "# Helper thread to avoid the Spark StreamingContext from blocking Jupyter\n",
    "        \n",
    "class StreamingThread(threading.Thread):\n",
    "    def __init__(self, ssc):\n",
    "        super().__init__()\n",
    "        self.ssc = ssc\n",
    "    def run(self):\n",
    "        self.ssc.start()\n",
    "        self.ssc.awaitTermination()\n",
    "    def stop(self):\n",
    "        print('----- Stopping... this may take a few seconds -----')\n",
    "        self.ssc.stop(stopSparkContext=False, stopGraceFully=True)"
   ]
  },
  {
   "cell_type": "code",
   "execution_count": 2,
   "metadata": {
    "scrolled": true
   },
   "outputs": [
    {
     "data": {
      "text/html": [
       "\n",
       "        <div>\n",
       "            <p><b>SparkContext</b></p>\n",
       "\n",
       "            <p><a href=\"http://Pen:4040\">Spark UI</a></p>\n",
       "\n",
       "            <dl>\n",
       "              <dt>Version</dt>\n",
       "                <dd><code>v3.3.2</code></dd>\n",
       "              <dt>Master</dt>\n",
       "                <dd><code>local[*]</code></dd>\n",
       "              <dt>AppName</dt>\n",
       "                <dd><code>PySparkShell</code></dd>\n",
       "            </dl>\n",
       "        </div>\n",
       "        "
      ],
      "text/plain": [
       "<SparkContext master=local[*] appName=PySparkShell>"
      ]
     },
     "execution_count": 2,
     "metadata": {},
     "output_type": "execute_result"
    }
   ],
   "source": [
    "sc"
   ]
  },
  {
   "cell_type": "code",
   "execution_count": 3,
   "metadata": {},
   "outputs": [
    {
     "data": {
      "text/html": [
       "\n",
       "            <div>\n",
       "                <p><b>SparkSession - hive</b></p>\n",
       "                \n",
       "        <div>\n",
       "            <p><b>SparkContext</b></p>\n",
       "\n",
       "            <p><a href=\"http://Pen:4040\">Spark UI</a></p>\n",
       "\n",
       "            <dl>\n",
       "              <dt>Version</dt>\n",
       "                <dd><code>v3.3.2</code></dd>\n",
       "              <dt>Master</dt>\n",
       "                <dd><code>local[*]</code></dd>\n",
       "              <dt>AppName</dt>\n",
       "                <dd><code>PySparkShell</code></dd>\n",
       "            </dl>\n",
       "        </div>\n",
       "        \n",
       "            </div>\n",
       "        "
      ],
      "text/plain": [
       "<pyspark.sql.session.SparkSession at 0x1cd0874f760>"
      ]
     },
     "execution_count": 3,
     "metadata": {},
     "output_type": "execute_result"
    }
   ],
   "source": [
    "spark"
   ]
  },
  {
   "cell_type": "code",
   "execution_count": 4,
   "metadata": {},
   "outputs": [],
   "source": [
    "import random\n",
    "from pyspark.streaming import StreamingContext\n",
    "from pyspark.sql import Row\n",
    "from pyspark.sql.functions import udf, struct, array, col, lit\n",
    "from pyspark.sql.types import StringType"
   ]
  },
  {
   "cell_type": "code",
   "execution_count": 5,
   "metadata": {},
   "outputs": [],
   "source": [
    "from pyspark.ml.pipeline import PipelineModel"
   ]
  },
  {
   "cell_type": "code",
   "execution_count": 52,
   "metadata": {},
   "outputs": [],
   "source": [
    "globals()['models_loaded'] = False\n",
    "globals()['my_model'] = None\n",
    "\n",
    "# Toy predict function that returns a random probability. Normally you'd use your loaded globals()['my_model'] here\n",
    "#def predict(df):\n",
    "    #print(globals()['my_model'].keys)\n",
    "#    return globals()['my_model'].transform(df)\n",
    "\n",
    "#predict_udf = udf(predict, StringType())\n",
    "\n",
    "\n",
    "\n",
    "\n",
    "def process(time, rdd):\n",
    "    if rdd.isEmpty():\n",
    "        return\n",
    "    \n",
    "    print(\"========= %s =========\" % str(time))\n",
    "    \n",
    "    # Convert to data frame\n",
    "    df = spark.read.json(rdd)\n",
    "    df.show()\n",
    "    \n",
    "    # Utilize our predict function\n",
    "#    df_withpreds = df.withColumn(\"pred\", predict_udf(\n",
    "#        struct([df[x] for x in df.columns])\n",
    "#    ))\n",
    "#    df_withpreds.show()\n",
    "    \n",
    "    # Normally, you wouldn't use a UDF (User Defined Function) Python function to predict as we did here (you can)\n",
    "    # but an MLlib model you've built and saved with Spark\n",
    "    # In this case, you need to prevent loading your model in every call to \"process\" as follows:\n",
    "    \n",
    "    # Load in the model if not yet loaded:\n",
    "    if not globals()['models_loaded']:\n",
    "        # load in your models here\n",
    "        globals()['my_model'] = PipelineModel.load(\"#Path\")\n",
    "        globals()['models_loaded'] = True\n",
    "        \n",
    "    # And then predict using the loaded model (uncomment below):\n",
    "    \n",
    "    df_result = globals()['my_model'].transform(df)\n",
    "    df_result.select('app_id','review_id','review_text','probability', 'prediction').show()"
   ]
  },
  {
   "cell_type": "code",
   "execution_count": 53,
   "metadata": {},
   "outputs": [],
   "source": [
    "ssc = StreamingContext(sc, 10)"
   ]
  },
  {
   "cell_type": "code",
   "execution_count": 54,
   "metadata": {
    "scrolled": true
   },
   "outputs": [],
   "source": [
    "lines = ssc.socketTextStream(\"seppe.net\", 7778)\n",
    "lines.foreachRDD(process)"
   ]
  },
  {
   "cell_type": "code",
   "execution_count": 55,
   "metadata": {
    "scrolled": false
   },
   "outputs": [
    {
     "name": "stdout",
     "output_type": "stream",
     "text": [
      "========= 2023-05-05 19:38:00 =========\n",
      "+-------+-----+---------+--------------------+\n",
      "| app_id|label|review_id|         review_text|\n",
      "+-------+-----+---------+--------------------+\n",
      "|2086140|    0|137833533|Excited to play i...|\n",
      "|1294810|    1|137832855|I think the game ...|\n",
      "+-------+-----+---------+--------------------+\n",
      "\n",
      "+-------+---------+--------------------+--------------------+----------+\n",
      "| app_id|review_id|         review_text|         probability|prediction|\n",
      "+-------+---------+--------------------+--------------------+----------+\n",
      "|2086140|137833533|Excited to play i...|[0.00997483202920...|       1.0|\n",
      "|1294810|137832855|I think the game ...|[5.50898886634599...|       1.0|\n",
      "+-------+---------+--------------------+--------------------+----------+\n",
      "\n",
      "========= 2023-05-05 19:38:10 =========\n",
      "+-------+-----+---------+--------------------+\n",
      "| app_id|label|review_id|         review_text|\n",
      "+-------+-----+---------+--------------------+\n",
      "|1294810|    0|137831921|In it's current s...|\n",
      "|1294810|    0|137830511|I mean the game i...|\n",
      "+-------+-----+---------+--------------------+\n",
      "\n",
      "+-------+---------+--------------------+--------------------+----------+\n",
      "| app_id|review_id|         review_text|         probability|prediction|\n",
      "+-------+---------+--------------------+--------------------+----------+\n",
      "|1294810|137831921|In it's current s...|           [1.0,0.0]|       0.0|\n",
      "|1294810|137830511|I mean the game i...|[0.99999332591771...|       0.0|\n",
      "+-------+---------+--------------------+--------------------+----------+\n",
      "\n",
      "========= 2023-05-05 19:38:20 =========\n",
      "+-------+-----+---------+--------------------+\n",
      "| app_id|label|review_id|         review_text|\n",
      "+-------+-----+---------+--------------------+\n",
      "|1294810|    1|137814120|I have played coo...|\n",
      "|1669000|    1|137833471|From the perspect...|\n",
      "|1669000|    1|137832718|I don't normally ...|\n",
      "|1669000|    1|137832187|It still has some...|\n",
      "|1669000|    0|137832164|Mixture between C...|\n",
      "+-------+-----+---------+--------------------+\n",
      "\n",
      "+-------+---------+--------------------+--------------------+----------+\n",
      "| app_id|review_id|         review_text|         probability|prediction|\n",
      "+-------+---------+--------------------+--------------------+----------+\n",
      "|1294810|137814120|I have played coo...|[4.82372086215506...|       1.0|\n",
      "|1669000|137833471|From the perspect...|           [1.0,0.0]|       0.0|\n",
      "|1669000|137832718|I don't normally ...|[5.16923583072573...|       1.0|\n",
      "|1669000|137832187|It still has some...|[3.34450792759105...|       1.0|\n",
      "|1669000|137832164|Mixture between C...|           [1.0,0.0]|       0.0|\n",
      "+-------+---------+--------------------+--------------------+----------+\n",
      "\n",
      "========= 2023-05-05 19:38:30 =========\n",
      "+-------+-----+---------+--------------------+\n",
      "| app_id|label|review_id|         review_text|\n",
      "+-------+-----+---------+--------------------+\n",
      "|1669000|    1|137831989|Epic game!!!! Ano...|\n",
      "+-------+-----+---------+--------------------+\n",
      "\n",
      "+-------+---------+--------------------+--------------------+----------+\n",
      "| app_id|review_id|         review_text|         probability|prediction|\n",
      "+-------+---------+--------------------+--------------------+----------+\n",
      "|1669000|137831989|Epic game!!!! Ano...|[1.65606997205862...|       1.0|\n",
      "+-------+---------+--------------------+--------------------+----------+\n",
      "\n",
      "========= 2023-05-05 19:39:00 =========\n",
      "+-------+-----+---------+--------------------+\n",
      "| app_id|label|review_id|         review_text|\n",
      "+-------+-----+---------+--------------------+\n",
      "|2266160|    1|137830811|Modules is a free...|\n",
      "|2272420|    1|137830964|Great game cant w...|\n",
      "|1651490|    1|137833792|Great game, I've ...|\n",
      "|1566200|    1|137832514|Why is the soundt...|\n",
      "+-------+-----+---------+--------------------+\n",
      "\n",
      "+-------+---------+--------------------+--------------------+----------+\n",
      "| app_id|review_id|         review_text|         probability|prediction|\n",
      "+-------+---------+--------------------+--------------------+----------+\n",
      "|2266160|137830811|Modules is a free...|[6.57808279579915...|       1.0|\n",
      "|2272420|137830964|Great game cant w...|[2.84240609580373...|       1.0|\n",
      "|1651490|137833792|Great game, I've ...|[4.32991482704672...|       1.0|\n",
      "|1566200|137832514|Why is the soundt...|[0.28420263238132...|       1.0|\n",
      "+-------+---------+--------------------+--------------------+----------+\n",
      "\n",
      "========= 2023-05-05 19:39:10 =========\n",
      "+-------+-----+---------+--------------------+\n",
      "| app_id|label|review_id|         review_text|\n",
      "+-------+-----+---------+--------------------+\n",
      "|1566200|    1|137832500|This is if an arc...|\n",
      "|1566200|    0|137832447|Actually; I do no...|\n",
      "+-------+-----+---------+--------------------+\n",
      "\n",
      "+-------+---------+--------------------+--------------------+----------+\n",
      "| app_id|review_id|         review_text|         probability|prediction|\n",
      "+-------+---------+--------------------+--------------------+----------+\n",
      "|1566200|137832500|This is if an arc...|[6.80300168741957...|       1.0|\n",
      "|1566200|137832447|Actually; I do no...|[0.22964956016820...|       1.0|\n",
      "+-------+---------+--------------------+--------------------+----------+\n",
      "\n",
      "========= 2023-05-05 19:39:20 =========\n",
      "+-------+-----+---------+--------------------+\n",
      "| app_id|label|review_id|         review_text|\n",
      "+-------+-----+---------+--------------------+\n",
      "|1566200|    1|137831768|This game is just...|\n",
      "|1494420|    1|137833707|So far as an earl...|\n",
      "|1494420|    1|137833699|It's good for wha...|\n",
      "+-------+-----+---------+--------------------+\n",
      "\n",
      "+-------+---------+--------------------+--------------------+----------+\n",
      "| app_id|review_id|         review_text|         probability|prediction|\n",
      "+-------+---------+--------------------+--------------------+----------+\n",
      "|1566200|137831768|This game is just...|[4.61676640096986...|       1.0|\n",
      "|1494420|137833707|So far as an earl...|[8.59912548300398...|       1.0|\n",
      "|1494420|137833699|It's good for wha...|[0.99999993429189...|       0.0|\n",
      "+-------+---------+--------------------+--------------------+----------+\n",
      "\n",
      "========= 2023-05-05 19:39:30 =========\n",
      "+-------+-----+---------+--------------------+\n",
      "| app_id|label|review_id|         review_text|\n",
      "+-------+-----+---------+--------------------+\n",
      "|1494420|    0|137833643|Game is in very r...|\n",
      "+-------+-----+---------+--------------------+\n",
      "\n",
      "+-------+---------+--------------------+--------------------+----------+\n",
      "| app_id|review_id|         review_text|         probability|prediction|\n",
      "+-------+---------+--------------------+--------------------+----------+\n",
      "|1494420|137833643|Game is in very r...|[2.25301279080010...|       1.0|\n",
      "+-------+---------+--------------------+--------------------+----------+\n",
      "\n",
      "========= 2023-05-05 19:39:50 =========\n",
      "+-------+-----+---------+--------------------+\n",
      "| app_id|label|review_id|         review_text|\n",
      "+-------+-----+---------+--------------------+\n",
      "|2337630|    1|137832212|Game is getting b...|\n",
      "|2056340|    1|137832228|This game is bori...|\n",
      "|1840790|    0|137833666|So the combat jus...|\n",
      "+-------+-----+---------+--------------------+\n",
      "\n",
      "+-------+---------+--------------------+--------------------+----------+\n",
      "| app_id|review_id|         review_text|         probability|prediction|\n",
      "+-------+---------+--------------------+--------------------+----------+\n",
      "|2337630|137832212|Game is getting b...|[4.88084002600609...|       1.0|\n",
      "|2056340|137832228|This game is bori...|[1.47590159804581...|       1.0|\n",
      "|1840790|137833666|So the combat jus...|[0.99999623932883...|       0.0|\n",
      "+-------+---------+--------------------+--------------------+----------+\n",
      "\n",
      "========= 2023-05-05 19:40:00 =========\n",
      "+-------+-----+---------+--------------------+\n",
      "| app_id|label|review_id|         review_text|\n",
      "+-------+-----+---------+--------------------+\n",
      "|1366850|    0|137832505|interesting idea,...|\n",
      "|1824960|    1|137833843|Gameplay/Let's Pl...|\n",
      "+-------+-----+---------+--------------------+\n",
      "\n",
      "+-------+---------+--------------------+--------------------+----------+\n",
      "| app_id|review_id|         review_text|         probability|prediction|\n",
      "+-------+---------+--------------------+--------------------+----------+\n",
      "|1366850|137832505|interesting idea,...|[0.98998290229672...|       0.0|\n",
      "|1824960|137833843|Gameplay/Let's Pl...|[0.99999999999989...|       0.0|\n",
      "+-------+---------+--------------------+--------------------+----------+\n",
      "\n",
      "========= 2023-05-05 19:40:10 =========\n"
     ]
    }
   ],
   "source": [
    "ssc_t = StreamingThread(ssc)\n",
    "ssc_t.start()"
   ]
  },
  {
   "cell_type": "code",
   "execution_count": 51,
   "metadata": {
    "scrolled": true
   },
   "outputs": [
    {
     "name": "stdout",
     "output_type": "stream",
     "text": [
      "+-------+-----+---------+--------------------+\n",
      "| app_id|label|review_id|         review_text|\n",
      "+-------+-----+---------+--------------------+\n",
      "|1494420|    1|137833699|It's good for wha...|\n",
      "|1494420|    0|137833643|Game is in very r...|\n",
      "+-------+-----+---------+--------------------+\n",
      "\n",
      "----- Stopping... this may take a few seconds -----\n",
      "+---------+--------------------+--------------------+----------+\n",
      "|review_id|         review_text|         probability|prediction|\n",
      "+---------+--------------------+--------------------+----------+\n",
      "|137833699|It's good for wha...|[0.99999993429189...|       0.0|\n",
      "|137833643|Game is in very r...|[2.25301279080010...|       1.0|\n",
      "+---------+--------------------+--------------------+----------+\n",
      "\n"
     ]
    }
   ],
   "source": [
    "ssc_t.stop()"
   ]
  },
  {
   "cell_type": "code",
   "execution_count": null,
   "metadata": {},
   "outputs": [],
   "source": []
  }
 ],
 "metadata": {
  "kernelspec": {
   "display_name": "Python 3 (ipykernel)",
   "language": "python",
   "name": "python3"
  },
  "language_info": {
   "codemirror_mode": {
    "name": "ipython",
    "version": 3
   },
   "file_extension": ".py",
   "mimetype": "text/x-python",
   "name": "python",
   "nbconvert_exporter": "python",
   "pygments_lexer": "ipython3",
   "version": "3.9.16"
  },
  "toc": {
   "base_numbering": 1,
   "nav_menu": {},
   "number_sections": true,
   "sideBar": true,
   "skip_h1_title": false,
   "title_cell": "Table of Contents",
   "title_sidebar": "Contents",
   "toc_cell": false,
   "toc_position": {},
   "toc_section_display": true,
   "toc_window_display": false
  }
 },
 "nbformat": 4,
 "nbformat_minor": 2
}
