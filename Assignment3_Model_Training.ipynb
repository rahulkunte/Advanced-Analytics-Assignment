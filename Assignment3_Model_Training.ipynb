{
 "cells": [
  {
   "cell_type": "code",
   "execution_count": 7,
   "id": "5328a7a9",
   "metadata": {},
   "outputs": [],
   "source": [
    "import os\n",
    "import csv\n",
    "import pandas as pd\n",
    "import json\n",
    "import matplotlib.pyplot as plt\n",
    "import seaborn as sns"
   ]
  },
  {
   "cell_type": "markdown",
   "id": "0a83bd24",
   "metadata": {},
   "source": [
    "#### Reading the files with review json data"
   ]
  },
  {
   "cell_type": "code",
   "execution_count": 8,
   "id": "54056a69",
   "metadata": {},
   "outputs": [],
   "source": [
    "path = \"D:\\\\Rahul\\\\Stats and Data Science\\\\Sem 2\\\\Advanced Analytics\\\\Assignments\\\\Steam Game Reviews\\\\reviews_rahul.csv\" #Reading the review files"
   ]
  },
  {
   "cell_type": "code",
   "execution_count": 9,
   "id": "888e6bd0",
   "metadata": {},
   "outputs": [],
   "source": [
    "df = pd.read_csv(path)"
   ]
  },
  {
   "cell_type": "code",
   "execution_count": 10,
   "id": "ff8473c3",
   "metadata": {},
   "outputs": [],
   "source": [
    "df2 = pd.read_csv(\"D:\\\\Rahul\\\\Stats and Data Science\\\\Sem 2\\\\Advanced Analytics\\\\Assignments\\\\Steam Game Reviews\\\\reviews (1).csv\")"
   ]
  },
  {
   "cell_type": "code",
   "execution_count": 11,
   "id": "da3a0456",
   "metadata": {},
   "outputs": [],
   "source": [
    "df_final = pd.concat([df,df2], axis = 0)"
   ]
  },
  {
   "cell_type": "code",
   "execution_count": 12,
   "id": "3f570d77",
   "metadata": {},
   "outputs": [],
   "source": [
    "df_final.drop(['Unnamed: 0'], axis = 1, inplace = True)"
   ]
  },
  {
   "cell_type": "code",
   "execution_count": 13,
   "id": "97c9b23b",
   "metadata": {},
   "outputs": [
    {
     "data": {
      "text/html": [
       "<div>\n",
       "<style scoped>\n",
       "    .dataframe tbody tr th:only-of-type {\n",
       "        vertical-align: middle;\n",
       "    }\n",
       "\n",
       "    .dataframe tbody tr th {\n",
       "        vertical-align: top;\n",
       "    }\n",
       "\n",
       "    .dataframe thead th {\n",
       "        text-align: right;\n",
       "    }\n",
       "</style>\n",
       "<table border=\"1\" class=\"dataframe\">\n",
       "  <thead>\n",
       "    <tr style=\"text-align: right;\">\n",
       "      <th></th>\n",
       "      <th>review_id</th>\n",
       "      <th>app_id</th>\n",
       "      <th>review_text</th>\n",
       "      <th>label</th>\n",
       "    </tr>\n",
       "  </thead>\n",
       "  <tbody>\n",
       "    <tr>\n",
       "      <th>9</th>\n",
       "      <td>136818373</td>\n",
       "      <td>1364020</td>\n",
       "      <td>everyone uses one class thats not fun needs mo...</td>\n",
       "      <td>0</td>\n",
       "    </tr>\n",
       "    <tr>\n",
       "      <th>14</th>\n",
       "      <td>136819175</td>\n",
       "      <td>1,79,80,10,17,98,020</td>\n",
       "      <td>Got up to the second boss in MMBN1 (Numberman)...</td>\n",
       "      <td>0</td>\n",
       "    </tr>\n",
       "    <tr>\n",
       "      <th>16</th>\n",
       "      <td>136824052</td>\n",
       "      <td>1798010</td>\n",
       "      <td>I love the game but this port frequently freez...</td>\n",
       "      <td>0</td>\n",
       "    </tr>\n",
       "    <tr>\n",
       "      <th>28</th>\n",
       "      <td>136819099</td>\n",
       "      <td>2114350</td>\n",
       "      <td>poop</td>\n",
       "      <td>0</td>\n",
       "    </tr>\n",
       "    <tr>\n",
       "      <th>31</th>\n",
       "      <td>136822876</td>\n",
       "      <td>2328760</td>\n",
       "      <td>Can't stand the feel.  Solid visual upgrade, b...</td>\n",
       "      <td>0</td>\n",
       "    </tr>\n",
       "    <tr>\n",
       "      <th>...</th>\n",
       "      <td>...</td>\n",
       "      <td>...</td>\n",
       "      <td>...</td>\n",
       "      <td>...</td>\n",
       "    </tr>\n",
       "    <tr>\n",
       "      <th>979</th>\n",
       "      <td>137380782</td>\n",
       "      <td>1493750</td>\n",
       "      <td>Schemer demon is broken to fight against as a ...</td>\n",
       "      <td>0</td>\n",
       "    </tr>\n",
       "    <tr>\n",
       "      <th>980</th>\n",
       "      <td>137379732</td>\n",
       "      <td>1493750</td>\n",
       "      <td>Unfair matchmaking. Clunky beyond words. And g...</td>\n",
       "      <td>0</td>\n",
       "    </tr>\n",
       "    <tr>\n",
       "      <th>992</th>\n",
       "      <td>137380202</td>\n",
       "      <td>2360030</td>\n",
       "      <td>18 years and I still don't know what the myste...</td>\n",
       "      <td>0</td>\n",
       "    </tr>\n",
       "    <tr>\n",
       "      <th>1002</th>\n",
       "      <td>137378370</td>\n",
       "      <td>1861630</td>\n",
       "      <td>\"Junk Survivor\" couldn't have a more fitting n...</td>\n",
       "      <td>0</td>\n",
       "    </tr>\n",
       "    <tr>\n",
       "      <th>1007</th>\n",
       "      <td>137382006</td>\n",
       "      <td>1869590</td>\n",
       "      <td>L game</td>\n",
       "      <td>0</td>\n",
       "    </tr>\n",
       "  </tbody>\n",
       "</table>\n",
       "<p>223 rows × 4 columns</p>\n",
       "</div>"
      ],
      "text/plain": [
       "      review_id                app_id  \\\n",
       "9     136818373               1364020   \n",
       "14    136819175  1,79,80,10,17,98,020   \n",
       "16    136824052               1798010   \n",
       "28    136819099               2114350   \n",
       "31    136822876               2328760   \n",
       "...         ...                   ...   \n",
       "979   137380782               1493750   \n",
       "980   137379732               1493750   \n",
       "992   137380202               2360030   \n",
       "1002  137378370               1861630   \n",
       "1007  137382006               1869590   \n",
       "\n",
       "                                            review_text  label  \n",
       "9     everyone uses one class thats not fun needs mo...      0  \n",
       "14    Got up to the second boss in MMBN1 (Numberman)...      0  \n",
       "16    I love the game but this port frequently freez...      0  \n",
       "28                                                 poop      0  \n",
       "31    Can't stand the feel.  Solid visual upgrade, b...      0  \n",
       "...                                                 ...    ...  \n",
       "979   Schemer demon is broken to fight against as a ...      0  \n",
       "980   Unfair matchmaking. Clunky beyond words. And g...      0  \n",
       "992   18 years and I still don't know what the myste...      0  \n",
       "1002  \"Junk Survivor\" couldn't have a more fitting n...      0  \n",
       "1007                                             L game      0  \n",
       "\n",
       "[223 rows x 4 columns]"
      ]
     },
     "execution_count": 13,
     "metadata": {},
     "output_type": "execute_result"
    }
   ],
   "source": [
    "df_final[df_final['label'] == 0]"
   ]
  },
  {
   "cell_type": "code",
   "execution_count": 14,
   "id": "5c90d397",
   "metadata": {},
   "outputs": [],
   "source": [
    "plt.style.use('ggplot')"
   ]
  },
  {
   "cell_type": "markdown",
   "id": "1d658417",
   "metadata": {},
   "source": [
    "#### Looking at label counts"
   ]
  },
  {
   "cell_type": "code",
   "execution_count": 15,
   "id": "45ed6d1d",
   "metadata": {},
   "outputs": [
    {
     "data": {
      "image/png": "[encoded data removed]",
      "text/plain": [
       "<Figure size 400x300 with 1 Axes>"
      ]
     },
     "metadata": {},
     "output_type": "display_data"
    }
   ],
   "source": [
    "ax = df_final['label'].value_counts().sort_index() \\\n",
    "    .plot(kind='bar',\n",
    "          title='Count of Labels',\n",
    "          figsize=(4, 3))\n",
    "ax.set_xlabel('Labels')\n",
    "plt.show()"
   ]
  },
  {
   "cell_type": "code",
   "execution_count": 16,
   "id": "177ecb01",
   "metadata": {},
   "outputs": [],
   "source": [
    "df = df_final.drop_duplicates()"
   ]
  },
  {
   "cell_type": "code",
   "execution_count": 37,
   "id": "86d06e33",
   "metadata": {},
   "outputs": [
    {
     "name": "stderr",
     "output_type": "stream",
     "text": [
      "C:\\Users\\rahul\\spark\\spark-3.3.2-bin-hadoop2\\python\\pyspark\\sql\\pandas\\conversion.py:474: FutureWarning: iteritems is deprecated and will be removed in a future version. Use .items instead.\n",
      "  for column, series in pdf.iteritems():\n",
      "C:\\Users\\rahul\\spark\\spark-3.3.2-bin-hadoop2\\python\\pyspark\\sql\\pandas\\conversion.py:486: FutureWarning: iteritems is deprecated and will be removed in a future version. Use .items instead.\n",
      "  for column, series in pdf.iteritems():\n"
     ]
    }
   ],
   "source": [
    "df = spark.createDataFrame(df)"
   ]
  },
  {
   "cell_type": "code",
   "execution_count": 40,
   "id": "51be870b",
   "metadata": {},
   "outputs": [
    {
     "name": "stdout",
     "output_type": "stream",
     "text": [
      "+---------+-------+--------------------+-----+\n",
      "|review_id| app_id|         review_text|label|\n",
      "+---------+-------+--------------------+-----+\n",
      "|136820163|1097620|after playing thi...|    1|\n",
      "|136820275|2328760|Good game, graphi...|    1|\n",
      "|136820498|1364020|What a great game...|    1|\n",
      "|136820495|1364020|            Me enjoy|    1|\n",
      "|136820488|1364020|Better than Cod a...|    1|\n",
      "|136820298|1364020|Interesting gamep...|    1|\n",
      "|136820246|1364020|         Fun shooter|    1|\n",
      "|136819180|1364020|Its a very differ...|    1|\n",
      "|136819065|1364020|Fun game, think m...|    1|\n",
      "|136818373|1364020|everyone uses one...|    0|\n",
      "+---------+-------+--------------------+-----+\n",
      "only showing top 10 rows\n",
      "\n"
     ]
    }
   ],
   "source": [
    "df.show(10)"
   ]
  },
  {
   "cell_type": "markdown",
   "id": "8186d928",
   "metadata": {},
   "source": [
    "### Now, we will create a pipeline using pyspark to preprocess the text data and then make sentiment predictions"
   ]
  },
  {
   "cell_type": "code",
   "execution_count": 41,
   "id": "1bfce9ac",
   "metadata": {},
   "outputs": [],
   "source": [
    "import pyspark.ml.feature"
   ]
  },
  {
   "cell_type": "code",
   "execution_count": 42,
   "id": "972c6449",
   "metadata": {},
   "outputs": [],
   "source": [
    "from pyspark.ml.feature import Tokenizer, StopWordsRemover, CountVectorizer, IDF"
   ]
  },
  {
   "cell_type": "code",
   "execution_count": 57,
   "id": "c0287905",
   "metadata": {},
   "outputs": [],
   "source": [
    "#Parts of the pipeline\n",
    "\n",
    "tokenize = Tokenizer(inputCol='review_text', outputCol='tok_reviews')\n",
    "stopwrem = StopWordsRemover(inputCol='tok_reviews', outputCol='clean_rev')\n",
    "vec_data = CountVectorizer(inputCol='clean_rev', outputCol='vec_rev')\n",
    "idf = IDF(inputCol='vec_rev', outputCol='vec_features')"
   ]
  },
  {
   "cell_type": "code",
   "execution_count": 44,
   "id": "9d316677",
   "metadata": {},
   "outputs": [],
   "source": [
    "labs = {0:\"Negative\", 1:\"Positive\"}"
   ]
  },
  {
   "cell_type": "code",
   "execution_count": 45,
   "id": "585b91c2",
   "metadata": {},
   "outputs": [],
   "source": [
    "from sklearn.model_selection import train_test_split"
   ]
  },
  {
   "cell_type": "code",
   "execution_count": 47,
   "id": "0eeccbf0",
   "metadata": {},
   "outputs": [],
   "source": [
    "train_df,test_df = df.randomSplit((0.7,0.3),seed=10)"
   ]
  },
  {
   "cell_type": "code",
   "execution_count": 50,
   "id": "d483ec11",
   "metadata": {},
   "outputs": [
    {
     "name": "stdout",
     "output_type": "stream",
     "text": [
      "+---------+--------------------+--------------------+-----+\n",
      "|review_id|              app_id|         review_text|label|\n",
      "+---------+--------------------+--------------------+-----+\n",
      "|136817493|1,79,80,10,17,98,020|             Megaman|    1|\n",
      "|136817509|             1922010|        Simply great|    1|\n",
      "|136817799|             1651560|I want the mixed ...|    1|\n",
      "|136818046|             1922010|If the devs add t...|    1|\n",
      "|136818916|             1922010|Solid gun play. E...|    1|\n",
      "|136819099|             2114350|                poop|    0|\n",
      "|136819175|1,79,80,10,17,98,020|Got up to the sec...|    0|\n",
      "|136819222|             2097410|great game, you s...|    1|\n",
      "|136819285|             1922010|worth the money, ...|    1|\n",
      "|136819930|             1797630|Using Mime on the...|    1|\n",
      "+---------+--------------------+--------------------+-----+\n",
      "only showing top 10 rows\n",
      "\n"
     ]
    }
   ],
   "source": [
    "train_df.show(10)"
   ]
  },
  {
   "cell_type": "code",
   "execution_count": 51,
   "id": "f14d310f",
   "metadata": {},
   "outputs": [
    {
     "name": "stdout",
     "output_type": "stream",
     "text": [
      "+---------+-------+--------------------+-----+\n",
      "|review_id| app_id|         review_text|label|\n",
      "+---------+-------+--------------------+-----+\n",
      "|136817494|1922010|  R6 in VR FUCK YESS|    1|\n",
      "|136817733|2329130|TLDR: Its good, i...|    1|\n",
      "|136818080|1798020|Please buy this g...|    1|\n",
      "|136818373|1364020|everyone uses one...|    0|\n",
      "|136818823|2329130|This is a pretty ...|    1|\n",
      "|136819065|1364020|Fun game, think m...|    1|\n",
      "|136819180|1364020|Its a very differ...|    1|\n",
      "|136819922|1911360|What an amazing r...|    1|\n",
      "|136820488|1364020|Better than Cod a...|    1|\n",
      "|136821017|1941780|fun would be more...|    1|\n",
      "+---------+-------+--------------------+-----+\n",
      "only showing top 10 rows\n",
      "\n"
     ]
    }
   ],
   "source": [
    "test_df.show(10)"
   ]
  },
  {
   "cell_type": "code",
   "execution_count": null,
   "id": "e584e3e3",
   "metadata": {},
   "outputs": [],
   "source": []
  },
  {
   "cell_type": "code",
   "execution_count": 52,
   "id": "4c816022",
   "metadata": {},
   "outputs": [],
   "source": [
    "from pyspark.ml.classification import LogisticRegression"
   ]
  },
  {
   "cell_type": "code",
   "execution_count": 53,
   "id": "6bd59128",
   "metadata": {},
   "outputs": [],
   "source": [
    "from pyspark.ml import Pipeline"
   ]
  },
  {
   "cell_type": "code",
   "execution_count": 54,
   "id": "abba33d4",
   "metadata": {},
   "outputs": [],
   "source": [
    "lr = LogisticRegression(featuresCol='vec_features', labelCol='label')"
   ]
  },
  {
   "cell_type": "code",
   "execution_count": 55,
   "id": "c6527122",
   "metadata": {},
   "outputs": [],
   "source": [
    "pipeline = Pipeline(stages=[tokenize, stopwrem, vec_data, idf, lr])"
   ]
  },
  {
   "cell_type": "code",
   "execution_count": 58,
   "id": "170eed1a",
   "metadata": {},
   "outputs": [],
   "source": [
    "lr_model = pipeline.fit(train_df)"
   ]
  },
  {
   "cell_type": "code",
   "execution_count": 59,
   "id": "eaf1027e",
   "metadata": {},
   "outputs": [],
   "source": [
    "predictions = lr_model.transform(test_df)"
   ]
  },
  {
   "cell_type": "code",
   "execution_count": 61,
   "id": "5c49b1bb",
   "metadata": {},
   "outputs": [
    {
     "data": {
      "text/plain": [
       "['review_id',\n",
       " 'app_id',\n",
       " 'review_text',\n",
       " 'label',\n",
       " 'tok_reviews',\n",
       " 'clean_rev',\n",
       " 'vec_rev',\n",
       " 'vec_features',\n",
       " 'rawPrediction',\n",
       " 'probability',\n",
       " 'prediction']"
      ]
     },
     "execution_count": 61,
     "metadata": {},
     "output_type": "execute_result"
    }
   ],
   "source": [
    "predictions.columns"
   ]
  },
  {
   "cell_type": "code",
   "execution_count": 71,
   "id": "5ac55a13",
   "metadata": {
    "scrolled": true
   },
   "outputs": [
    {
     "name": "stdout",
     "output_type": "stream",
     "text": [
      "+---------+--------------------+-----+--------------------+--------------------+----------+\n",
      "|review_id|         review_text|label|       rawPrediction|         probability|prediction|\n",
      "+---------+--------------------+-----+--------------------+--------------------+----------+\n",
      "|136817494|  R6 in VR FUCK YESS|    1|[-24.740333422431...|[1.80056877389267...|       1.0|\n",
      "|136817733|TLDR: Its good, i...|    1|[-26.471650765141...|[3.18792536933547...|       1.0|\n",
      "|136818080|Please buy this g...|    1|[-12.318582481354...|[4.46792282700155...|       1.0|\n",
      "|136818373|everyone uses one...|    0|[-21.371926920817...|[5.22745220141907...|       1.0|\n",
      "|136818823|This is a pretty ...|    1|[-19.525008254887...|[3.31433691750267...|       1.0|\n",
      "|136819065|Fun game, think m...|    1|[-11.624192933874...|[8.9469140785241E...|       1.0|\n",
      "|136819180|Its a very differ...|    1|[-17.434795360599...|[2.68018375253522...|       1.0|\n",
      "|136819922|What an amazing r...|    1|[-48.350010943804...|[1.00428516424144...|       1.0|\n",
      "|136820488|Better than Cod a...|    1|[-24.898391942415...|[1.53732528812767...|       1.0|\n",
      "|136821017|fun would be more...|    1|[-25.882442872863...|[5.74642684311022...|       1.0|\n",
      "|136821781|I've played The S...|    1|[-3.5368047756409...|[0.02828297022826...|       1.0|\n",
      "|136821811|Muito divertido. ...|    1|[-17.988138412793...|[1.54117068970226...|       1.0|\n",
      "|136822234| more fun than siege|    1|[-27.019727609243...|[1.84281354942792...|       1.0|\n",
      "|136822285|ALMOST PERFECT 9/...|    1|[-22.198545424706...|[2.28714772202021...|       1.0|\n",
      "|136823489|Had lots of fun p...|    1|[-19.540330788560...|[3.26393996912976...|       1.0|\n",
      "|136823886|Played for 30 min...|    0|[-17.673542912994...|[2.11094942311965...|       1.0|\n",
      "|136823907|Plays great on St...|    1|[-30.043849977789...|[8.95615785438557...|       1.0|\n",
      "|136824015|potential to be o...|    0|[-31.593117603782...|[1.90231905684543...|       1.0|\n",
      "|136825074|Mega Man 2,3,not ...|    1|[-8.0417849485453...|[3.21630678791065...|       1.0|\n",
      "|136826456|I'll be another t...|    1|[-14.896843758589...|[3.39142963328473...|       1.0|\n",
      "|137263342|So far been enjoy...|    1|[-27.611672089767...|[1.01953743175992...|       1.0|\n",
      "|137263537|This is by far th...|    1|[67.4650668420477...|           [1.0,0.0]|       0.0|\n",
      "|137263767|love the storylin...|    1|[-21.246587503838...|[5.92549024582347...|       1.0|\n",
      "|137263902|Absolutely in lov...|    1|[-18.180946871977...|[1.27091086415729...|       1.0|\n",
      "|137264353|GREAT GAME. THE T...|    1|[-21.972936402024...|[2.86599197011999...|       1.0|\n",
      "|137264918|Fun concept, need...|    1|[-8.5721532366423...|[1.89268763615536...|       1.0|\n",
      "|137264968|Rough around the ...|    1|[20.7907631228378...|[0.99999999906526...|       0.0|\n",
      "|137265112|What a gem.\\n\\nI'...|    1|[-20.881129823806...|[8.53965923927019...|       1.0|\n",
      "|137265244|Great mobile port...|    1|[-4.9909769719210...|[0.00675310431282...|       1.0|\n",
      "|137265469|Great game for st...|    1|[-25.609750434202...|[7.54790983373401...|       1.0|\n",
      "|137265482|its so fun but it...|    1|[-16.433836722487...|[7.29248195677628...|       1.0|\n",
      "|137265762|https://steamcomm...|    1|[1.79412601313578...|[0.85743239318019...|       0.0|\n",
      "|137265951|awesome game real...|    1|[-25.943486166051...|[5.40613786566250...|       1.0|\n",
      "|137266044|Right now - I wou...|    0|[-7.1775688944497...|[7.62939268971227...|       1.0|\n",
      "|137266111|its got no right ...|    1|[-20.646503790988...|[1.07978510542397...|       1.0|\n",
      "|137266113|i got this game b...|    1|[12.7117695042630...|[0.99999698458327...|       0.0|\n",
      "|137266380|This game is very...|    1|[54.7507642976737...|           [1.0,0.0]|       0.0|\n",
      "|137266591|the advantage of ...|    1|[19.6796311518832...|[0.99999999716048...|       0.0|\n",
      "|137266813|Very good game wi...|    1|[-39.541755211246...|[6.71790575690292...|       1.0|\n",
      "|137266889|Dark Souls for ki...|    0|[-12.412078912321...|[4.06912332305235...|       1.0|\n",
      "|137267089|I really enjoy pl...|    1|[-14.613112398757...|[4.50407616758719...|       1.0|\n",
      "|130924580|        great game !|    1|[-21.265285317550...|[5.81572590755091...|       1.0|\n",
      "|130924969|What a fantastic ...|    1|[-19.785541007848...|[2.55416363729905...|       1.0|\n",
      "|134034240|Very addicting, l...|    1|[-36.859917090434...|[9.81615492769500...|       1.0|\n",
      "|134037552|Awesome. Has some...|    1|[-31.601268851067...|[1.88687581016879...|       1.0|\n",
      "|134043389|After 230 hours o...|    1|[-23.301836462566...|[7.58823908813217...|       1.0|\n",
      "|134076779|I've been playing...|    1|[-33.853135579045...|[1.98504347540220...|       1.0|\n",
      "|134119423|Very similar to G...|    1|[-5.8241692823799...|[0.00294655030124...|       1.0|\n",
      "|134143326|Lot of potential ...|    1|[-19.884385328714...|[2.31377526863176...|       1.0|\n",
      "|137166197|Well balance, wit...|    1|[-22.297699651398...|[2.07124790509013...|       1.0|\n",
      "|137209821|Really fun take o...|    1|[-16.104304060812...|[1.01388703005183...|       1.0|\n",
      "|137246718|I'm hoping the de...|    1|[21.8242623950281...|[0.99999999966746...|       0.0|\n",
      "|137267174|Boleeeeeeeeeeeeee...|    1|[-17.675311843130...|[2.10721860190240...|       1.0|\n",
      "|137267257|A short free fun ...|    1|[-41.767257883638...|[7.25621891998544...|       1.0|\n",
      "|137267611|Cute game. \\n\\nTh...|    1|[34.9272869221555...|[0.99999999999999...|       0.0|\n",
      "|137267644|I knocked on the ...|    1|[-5.8819751602474...|[0.00278151218417...|       1.0|\n",
      "|137267763|I actually have m...|    1|[-50.999201012169...|[7.10114562520611...|       1.0|\n",
      "|137268348|What is this feel...|    1|[-23.936119800715...|[4.02416011565705...|       1.0|\n",
      "|137268739|Loved this game. ...|    1|[-26.684803051862...|[2.57594913949714...|       1.0|\n",
      "|137268780|god damn sync jun...|    1|[-35.453924457962...|[4.00457328766734...|       1.0|\n",
      "|137269343|Definitely recomm...|    1|[21.8277194391763...|[0.99999999966860...|       0.0|\n",
      "|137269433|Excellent detail ...|    1|[-9.9239447027514...|[4.89851342231102...|       1.0|\n",
      "|137270149|Does Lovecraft ju...|    1|[-22.524140893786...|[1.65154305539835...|       1.0|\n",
      "|137270388|Absolute pile of ...|    0|[-12.914181553990...|[2.46286804083211...|       1.0|\n",
      "|137270425|[X]core gameplay ...|    1|[90.6609481329164...|           [1.0,0.0]|       0.0|\n",
      "|137270639|Слава Україні!\\ns...|    0|[45.8900628620798...|           [1.0,0.0]|       0.0|\n",
      "|137270855|[b]Executive summ...|    1|[-9.3408365482519...|[8.77582826950415...|       1.0|\n",
      "|137271336|This game struck ...|    1|[-8.6766599890137...|[1.70490583052111...|       1.0|\n",
      "|137271483|This game deserve...|    1|[2.69835572313899...|[0.93692954917702...|       0.0|\n",
      "|137271639|It's a decent BR,...|    1|[-8.5573858187094...|[1.92083973200175...|       1.0|\n",
      "|137286764|interesting conce...|    0|[9.59609201515758...|[0.99993201068563...|       0.0|\n",
      "|137287636|Very fun to play ...|    1|[-20.493005875296...|[1.25892723861123...|       1.0|\n",
      "|137287845|Before I play: I ...|    1|[15.8852644071244...|[0.99999987378316...|       0.0|\n",
      "|137287959|Funny game very g...|    1|[-24.197018195883...|[3.10004871852138...|       1.0|\n",
      "|137288387|lmao im having mo...|    1|[-32.093390153313...|[1.15350040369187...|       1.0|\n",
      "|137288639|It's a goofy game...|    1|[-19.835679755513...|[2.42925852975840...|       1.0|\n",
      "|137288858|Utter trash is al...|    0|[104.261873029004...|           [1.0,0.0]|       0.0|\n",
      "|137287224|CROW IS GETTING V...|    1|[-6.7438421284029...|[0.00117672567767...|       1.0|\n",
      "|137287997|i think every gam...|    1|[-13.992654780112...|[8.37658265163088...|       1.0|\n",
      "|137288450|Pretty good game....|    1|[-44.786264457269...|[3.54464283310792...|       1.0|\n",
      "+---------+--------------------+-----+--------------------+--------------------+----------+\n",
      "only showing top 80 rows\n",
      "\n"
     ]
    }
   ],
   "source": [
    "predictions.select('review_id','review_text', 'label', 'rawPrediction', 'probability', 'prediction').show(80)"
   ]
  },
  {
   "cell_type": "code",
   "execution_count": 68,
   "id": "d30ff867",
   "metadata": {
    "collapsed": true
   },
   "outputs": [
    {
     "name": "stdout",
     "output_type": "stream",
     "text": [
      "+----------+\n",
      "|prediction|\n",
      "+----------+\n",
      "|       1.0|\n",
      "|       1.0|\n",
      "|       1.0|\n",
      "|       1.0|\n",
      "|       1.0|\n",
      "|       1.0|\n",
      "|       1.0|\n",
      "|       1.0|\n",
      "|       1.0|\n",
      "|       1.0|\n",
      "|       1.0|\n",
      "|       1.0|\n",
      "|       1.0|\n",
      "|       1.0|\n",
      "|       1.0|\n",
      "|       1.0|\n",
      "|       1.0|\n",
      "|       1.0|\n",
      "|       1.0|\n",
      "|       1.0|\n",
      "|       1.0|\n",
      "|       0.0|\n",
      "|       1.0|\n",
      "|       1.0|\n",
      "|       1.0|\n",
      "|       1.0|\n",
      "|       0.0|\n",
      "|       1.0|\n",
      "|       1.0|\n",
      "|       1.0|\n",
      "|       1.0|\n",
      "|       0.0|\n",
      "|       1.0|\n",
      "|       1.0|\n",
      "|       1.0|\n",
      "|       0.0|\n",
      "|       0.0|\n",
      "|       0.0|\n",
      "|       1.0|\n",
      "|       1.0|\n",
      "|       1.0|\n",
      "|       1.0|\n",
      "|       1.0|\n",
      "|       1.0|\n",
      "|       1.0|\n",
      "|       1.0|\n",
      "|       1.0|\n",
      "|       1.0|\n",
      "|       1.0|\n",
      "|       1.0|\n",
      "|       1.0|\n",
      "|       0.0|\n",
      "|       1.0|\n",
      "|       1.0|\n",
      "|       0.0|\n",
      "|       1.0|\n",
      "|       1.0|\n",
      "|       1.0|\n",
      "|       1.0|\n",
      "|       1.0|\n",
      "|       0.0|\n",
      "|       1.0|\n",
      "|       1.0|\n",
      "|       1.0|\n",
      "|       0.0|\n",
      "|       0.0|\n",
      "|       1.0|\n",
      "|       1.0|\n",
      "|       0.0|\n",
      "|       1.0|\n",
      "|       0.0|\n",
      "|       1.0|\n",
      "|       0.0|\n",
      "|       1.0|\n",
      "|       1.0|\n",
      "|       1.0|\n",
      "|       0.0|\n",
      "|       1.0|\n",
      "|       1.0|\n",
      "|       1.0|\n",
      "|       1.0|\n",
      "|       1.0|\n",
      "|       1.0|\n",
      "|       1.0|\n",
      "|       1.0|\n",
      "|       1.0|\n",
      "|       0.0|\n",
      "|       1.0|\n",
      "|       0.0|\n",
      "|       1.0|\n",
      "|       1.0|\n",
      "|       1.0|\n",
      "|       1.0|\n",
      "|       1.0|\n",
      "|       0.0|\n",
      "|       0.0|\n",
      "|       1.0|\n",
      "|       1.0|\n",
      "|       1.0|\n",
      "|       1.0|\n",
      "+----------+\n",
      "only showing top 100 rows\n",
      "\n"
     ]
    }
   ],
   "source": [
    "predictions.select('prediction').show(100)"
   ]
  },
  {
   "cell_type": "code",
   "execution_count": 72,
   "id": "827f9379",
   "metadata": {},
   "outputs": [],
   "source": [
    "from pyspark.ml.evaluation import MulticlassClassificationEvaluator\n",
    "\n",
    "evaluator = MulticlassClassificationEvaluator(labelCol='label',predictionCol='prediction',metricName='accuracy')\n",
    "\n",
    "accuracy = evaluator.evaluate(predictions)\n"
   ]
  },
  {
   "cell_type": "code",
   "execution_count": 73,
   "id": "4ce12580",
   "metadata": {},
   "outputs": [
    {
     "data": {
      "text/plain": [
       "0.7750865051903114"
      ]
     },
     "execution_count": 73,
     "metadata": {},
     "output_type": "execute_result"
    }
   ],
   "source": [
    "accuracy"
   ]
  },
  {
   "cell_type": "markdown",
   "id": "3e05f527",
   "metadata": {},
   "source": [
    "### Confusion matrix to visualise the results"
   ]
  },
  {
   "cell_type": "code",
   "execution_count": 80,
   "id": "fc3df6da",
   "metadata": {},
   "outputs": [],
   "source": [
    "from sklearn.metrics import confusion_matrix,classification_report"
   ]
  },
  {
   "cell_type": "code",
   "execution_count": 81,
   "id": "e7ef5dc9",
   "metadata": {},
   "outputs": [],
   "source": [
    "y_true = predictions.select('label')\n",
    "y_true = y_true.toPandas()\n",
    "y_pred = predictions.select('prediction')\n",
    "y_pred = y_pred.toPandas()\n",
    "cm = confusion_matrix(y_true,y_pred)"
   ]
  },
  {
   "cell_type": "code",
   "execution_count": 82,
   "id": "705b3861",
   "metadata": {},
   "outputs": [
    {
     "data": {
      "text/plain": [
       "array([[ 19,  25],\n",
       "       [ 40, 205]], dtype=int64)"
      ]
     },
     "execution_count": 82,
     "metadata": {},
     "output_type": "execute_result"
    }
   ],
   "source": [
    "cm"
   ]
  },
  {
   "cell_type": "code",
   "execution_count": 83,
   "id": "0283ba0d",
   "metadata": {},
   "outputs": [],
   "source": [
    "import matplotlib.pyplot as plt\n",
    "import numpy as np\n",
    "import itertools\n",
    "\n",
    "def plot_confusion_matrix(cm, classes,\n",
    "                          normalize=False,\n",
    "                          title='Confusion matrix',\n",
    "                          cmap=plt.cm.Blues):\n",
    "    \"\"\"\n",
    "    This function prints and plots the confusion matrix.\n",
    "    Normalization can be applied by setting `normalize=True`.\n",
    "    \"\"\"\n",
    "    if normalize:\n",
    "        cm = cm.astype('float') / cm.sum(axis=1)[:, np.newaxis]\n",
    "        print(\"Normalized confusion matrix\")\n",
    "    else:\n",
    "        print('Confusion matrix, without normalization')\n",
    "\n",
    "    print(cm)\n",
    "\n",
    "    plt.imshow(cm, interpolation='nearest', cmap=cmap)\n",
    "    plt.title(title)\n",
    "    plt.colorbar()\n",
    "    tick_marks = np.arange(len(classes))\n",
    "    plt.xticks(tick_marks, classes, rotation=45)\n",
    "    plt.yticks(tick_marks, classes)\n",
    "\n",
    "    fmt = '.2f' if normalize else 'd'\n",
    "    thresh = cm.max() / 2.\n",
    "    for i, j in itertools.product(range(cm.shape[0]), range(cm.shape[1])):\n",
    "        plt.text(j, i, format(cm[i, j], fmt),\n",
    "                 horizontalalignment=\"center\",\n",
    "                 color=\"white\" if cm[i, j] > thresh else \"black\")\n",
    "\n",
    "    plt.tight_layout()\n",
    "    plt.ylabel('True label')\n",
    "    plt.xlabel('Predicted label')"
   ]
  },
  {
   "cell_type": "code",
   "execution_count": 84,
   "id": "d8c1d5a9",
   "metadata": {},
   "outputs": [],
   "source": [
    "class_names = ['Negative','Positive']"
   ]
  },
  {
   "cell_type": "code",
   "execution_count": 85,
   "id": "60fbd334",
   "metadata": {},
   "outputs": [
    {
     "name": "stdout",
     "output_type": "stream",
     "text": [
      "Confusion matrix, without normalization\n",
      "[[ 19  25]\n",
      " [ 40 205]]\n"
     ]
    },
    {
     "data": {
      "image/png": "[encoded data removed]",
      "text/plain": [
       "<Figure size 640x480 with 2 Axes>"
      ]
     },
     "metadata": {},
     "output_type": "display_data"
    }
   ],
   "source": [
    "plot_confusion_matrix(cm,class_names)"
   ]
  },
  {
   "cell_type": "code",
   "execution_count": null,
   "id": "7d37565f",
   "metadata": {},
   "outputs": [],
   "source": []
  },
  {
   "cell_type": "markdown",
   "id": "7284676c",
   "metadata": {},
   "source": [
    "### Example prediction"
   ]
  },
  {
   "cell_type": "code",
   "execution_count": 86,
   "id": "db50bbbc",
   "metadata": {},
   "outputs": [],
   "source": [
    "from pyspark.sql.types import StringType"
   ]
  },
  {
   "cell_type": "code",
   "execution_count": 95,
   "id": "fe8a5ef3",
   "metadata": {},
   "outputs": [],
   "source": [
    "ex = spark.createDataFrame([(\"Worst game ever\",StringType())], [\"review_text\"])"
   ]
  },
  {
   "cell_type": "code",
   "execution_count": 96,
   "id": "76f503b3",
   "metadata": {},
   "outputs": [],
   "source": [
    "pred_ex = lr_model.transform(ex)"
   ]
  },
  {
   "cell_type": "code",
   "execution_count": 97,
   "id": "977fd04f",
   "metadata": {},
   "outputs": [
    {
     "name": "stdout",
     "output_type": "stream",
     "text": [
      "+---------------+--------------------+--------------------+----------+\n",
      "|    review_text|       rawPrediction|         probability|prediction|\n",
      "+---------------+--------------------+--------------------+----------+\n",
      "|Worst game ever|[1.38596476617394...|[0.79994725959423...|       0.0|\n",
      "+---------------+--------------------+--------------------+----------+\n",
      "\n"
     ]
    }
   ],
   "source": [
    "pred_ex.select('review_text', 'rawPrediction', 'probability', 'prediction').show()"
   ]
  },
  {
   "cell_type": "code",
   "execution_count": null,
   "id": "56596b69",
   "metadata": {},
   "outputs": [],
   "source": []
  },
  {
   "cell_type": "markdown",
   "id": "1b36e372",
   "metadata": {},
   "source": [
    "### Save the model"
   ]
  },
  {
   "cell_type": "code",
   "execution_count": 75,
   "id": "4af85110",
   "metadata": {},
   "outputs": [],
   "source": [
    "Path = \"D:\\\\Rahul\\\\Stats and Data Science\\\\Sem 2\\\\Advanced Analytics\\\\Assignments\\\\Game Reviews Model\"\n",
    "lr_model.save(Path)"
   ]
  },
  {
   "cell_type": "code",
   "execution_count": null,
   "id": "51d53435",
   "metadata": {},
   "outputs": [],
   "source": []
  }
 ],
 "metadata": {
  "kernelspec": {
   "display_name": "Python 3 (ipykernel)",
   "language": "python",
   "name": "python3"
  },
  "language_info": {
   "codemirror_mode": {
    "name": "ipython",
    "version": 3
   },
   "file_extension": ".py",
   "mimetype": "text/x-python",
   "name": "python",
   "nbconvert_exporter": "python",
   "pygments_lexer": "ipython3",
   "version": "3.9.16"
  }
 },
 "nbformat": 4,
 "nbformat_minor": 5
}
